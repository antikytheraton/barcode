{
 "cells": [
  {
   "cell_type": "code",
   "execution_count": 1,
   "metadata": {},
   "outputs": [
    {
     "data": {
      "text/plain": [
       "['code128',\n",
       " 'code39',\n",
       " 'ean',\n",
       " 'ean13',\n",
       " 'ean8',\n",
       " 'gs1',\n",
       " 'gtin',\n",
       " 'isbn',\n",
       " 'isbn10',\n",
       " 'isbn13',\n",
       " 'issn',\n",
       " 'jan',\n",
       " 'pzn',\n",
       " 'upc',\n",
       " 'upca']"
      ]
     },
     "execution_count": 1,
     "metadata": {},
     "output_type": "execute_result"
    }
   ],
   "source": [
    "import barcode\n",
    "# todos los tipos de formatos disponibles\n",
    "barcode.PROVIDED_BARCODES"
   ]
  },
  {
   "cell_type": "code",
   "execution_count": 2,
   "metadata": {},
   "outputs": [
    {
     "data": {
      "text/plain": [
       "'code128_barcode.png'"
      ]
     },
     "execution_count": 2,
     "metadata": {},
     "output_type": "execute_result"
    }
   ],
   "source": [
    "from barcode.writer import ImageWriter\n",
    "ean = barcode.get('code128', '123456789012', writer=ImageWriter())\n",
    "filename = ean.save('code128_barcode')\n",
    "filename"
   ]
  },
  {
   "cell_type": "code",
   "execution_count": null,
   "metadata": {
    "collapsed": true
   },
   "outputs": [],
   "source": []
  }
 ],
 "metadata": {
  "kernelspec": {
   "display_name": "Python 3",
   "language": "python",
   "name": "python3"
  },
  "language_info": {
   "codemirror_mode": {
    "name": "ipython",
    "version": 3
   },
   "file_extension": ".py",
   "mimetype": "text/x-python",
   "name": "python",
   "nbconvert_exporter": "python",
   "pygments_lexer": "ipython3",
   "version": "3.6.0"
  }
 },
 "nbformat": 4,
 "nbformat_minor": 2
}
